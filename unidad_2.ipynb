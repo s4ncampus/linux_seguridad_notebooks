{
 "cells": [
  {
   "cell_type": "markdown",
   "metadata": {},
   "source": [
    "# Gestión de contraseñas"
   ]
  },
  {
   "cell_type": "markdown",
   "metadata": {},
   "source": [
    "En la siguiente actividad podrás entender mejor algunas herramientas que puedes usar para gestionar correctamente tus contraseñas."
   ]
  },
  {
   "cell_type": "markdown",
   "metadata": {},
   "source": [
    "# Gestores de contraseñas (KeepassXC keepassxc-cli)"
   ]
  },
  {
   "cell_type": "markdown",
   "metadata": {},
   "source": [
    "`KeepassXC` es un gestor de contraseñas ampliamente utilizado por personas en todo el mundo, permite almacenar contraseñas de una forma segura en un archivo de base de datos de contraseñas que generalmente se encuentra cifrado y protegido por contraseña y/o un archivo de llaves.\n",
    "\n",
    "Es posible instalar un cliente gráfico en Linux, Windows o Mac, sin embargo para este ejercicio utilizaremos su paquete de línea de comandos llamado `keepassxc-cli`\n",
    "\n",
    "La siguiente ejecución nos mostrará las opciones del comando `keepassxc-cli`"
   ]
  },
  {
   "cell_type": "code",
   "execution_count": null,
   "metadata": {},
   "outputs": [],
   "source": [
    "keepassxc-cli"
   ]
  },
  {
   "cell_type": "markdown",
   "metadata": {},
   "source": [
    "En las nuevas versiones de `keepassxc-cli` es posible crear bases de datos, sin embargo en la que nos provee Binder no es posible. Para crear una nueva base de datos de contraseñas desde la línea de comandos necesitamos 2 componentes, una base de datos y un par de llaves. Si fueras a generar el par de llaves debes ejecutar:\n",
    "\n",
    "* `ssh-keygen -N \"PASSPHRASE\" -C \"MI PAR DE LLAVES\" -f \"MISLLAVES\"`\n",
    "Allí debes reemplazar `PASSPHRASE` por tus propia frase de paso, `MI PAR DE LLAVES` por el comentario que quieres que tenga tu par de llaves y `MISLLAVES` por el nombre que le quieres dar a tus llaves.\n",
    "\n",
    "* `keepassxc-cli create \"MIBASEDEDATOS.KDBX\" --key-file \"MISLLAVES\"`\n",
    "Allí debes reemplazar `MIBASEDEDATOS.KDBX` por el nombre que le darás a tu base de datos y `MISLLAVES` por la llave privada que acabas de crear.\n",
    "\n",
    "Además solicitará una contraseña adicional de base de datos a la cual en mi caso le puse `L1nuxRul3s*`\n",
    "\n",
    "Estos pasos te crearían una base de datos con sus llaves, para este ejercicio yo les proveeré todos los elementos necesarios, los podemos ver en el siguiente comando:"
   ]
  },
  {
   "cell_type": "code",
   "execution_count": null,
   "metadata": {},
   "outputs": [],
   "source": [
    "ls $HOME/binder/resources/opt/U2/"
   ]
  },
  {
   "cell_type": "markdown",
   "metadata": {},
   "source": [
    "Se puede ver allí entonces:\n",
    "\n",
    "`MIBASEDEDATOS.KDBX` : Una base de datos de contraseñas\n",
    "`MISLLAVES` : Una llave privada\n",
    "`MISLLAVES.pub` : Una llave pública\n",
    "\n",
    "\n",
    "Ya sabiendo donde está nuestra base de datos y sus llaves, vamos a ver el contenido en ella, primero iremos al directorio donde tenemos lo que necesitamos con el comando cd:"
   ]
  },
  {
   "cell_type": "code",
   "execution_count": null,
   "metadata": {},
   "outputs": [],
   "source": [
    "cd $HOME/binder/resources/opt/U2/"
   ]
  },
  {
   "cell_type": "markdown",
   "metadata": {},
   "source": [
    "Ahora listaremos el contenido de la base de datos con el siguiente comando:"
   ]
  },
  {
   "cell_type": "code",
   "execution_count": null,
   "metadata": {},
   "outputs": [],
   "source": [
    "echo \"L1nuxRul3s*\" | keepassxc-cli ls MIBASEDEDATOS.KDBX -k MISLLAVES"
   ]
  },
  {
   "cell_type": "markdown",
   "metadata": {},
   "source": [
    "Este comado envía la contraseña con un `echo` y posteriormente solicita la apertura del archivo de base de datos de contraseñas con la respectiva llave.\n",
    "\n",
    "Nuestro siguiente paso será añadir un nuevo registro a la base de datos con el comando `keepassxc-cli add` y los parametros necesarios. En el siguiente ejemplo lo ejecutaremos sin parametros para ver todas las opciones que nos da el comando:"
   ]
  },
  {
   "cell_type": "code",
   "execution_count": null,
   "metadata": {},
   "outputs": [],
   "source": [
    "keepassxc-cli add"
   ]
  },
  {
   "cell_type": "markdown",
   "metadata": {},
   "source": [
    "Cómo pueden ver, la salida de este comando nos da unas opciones y su respectiva explicación, algunas de ellas son:\n",
    "\n",
    "`--username\n",
    "--url\n",
    "--generate\n",
    "--password-length\n",
    "-k`\n",
    "\n",
    "Utilizaremos esas opciones para añadir una entrada a la base de datos de contraseñas con el siguiente comando:"
   ]
  },
  {
   "cell_type": "code",
   "execution_count": null,
   "metadata": {},
   "outputs": [],
   "source": [
    "echo \"L1nuxRul3s*\" | keepassxc-cli add MIBASEDEDATOS.KDBX --username \"usuario@email.com\" --url \"https://www.email.com\" \"Email\" --generate --password-length 12 -k MISLLAVES"
   ]
  },
  {
   "cell_type": "markdown",
   "metadata": {},
   "source": [
    "Este comando acaba de añadir una entrada con las siguientes características:\n",
    "\n",
    "* Base de datos: MIBASEDEDATOS.KDBX\n",
    "* Usuario (a guardar en la entrada): usuario@email.com\n",
    "* URL (a guardar en la entrada): https://www.email.com\n",
    "* Nombre del registro: Email\n",
    "* Contraseña: Autogenerada de 12 caracteres (si queremos añadirla debemos \n",
    "\n",
    "Para esta entrada se generó una contraseña aleatoria pero aún no podemos verla. Para ver el contenido de una entrada utilizamos `keepassxc-cli show`"
   ]
  },
  {
   "cell_type": "code",
   "execution_count": null,
   "metadata": {},
   "outputs": [],
   "source": [
    "echo \"L1nuxRul3s*\" | keepassxc-cli show MIBASEDEDATOS.KDBX Email -k MISLLAVES"
   ]
  },
  {
   "cell_type": "markdown",
   "metadata": {},
   "source": [
    "Ese comando nos mostrará el contenido del registro solicitado en la base de datos actual `MIBASEDEDATOS.KDBX`"
   ]
  },
  {
   "cell_type": "markdown",
   "metadata": {},
   "source": [
    "# Validando la eficiencia de una contraseña"
   ]
  },
  {
   "cell_type": "markdown",
   "metadata": {},
   "source": [
    "La eficiencia de una contraseña se puede medir por su entropía que hace referencia a la cantidad de aleatoriedad para hacer a la misma difícil de adivinar. Existen herramientas en línea que permiten calcular la entropía, incluso permiten analizar cuantos días se demoraría un ataque de fuerza bruta en adivinarla. Para este ejercicio usaremos tres herramientas:\n",
    "\n",
    "* La primera será la misma `keepassxc-cli generate` para generar una contraseña aleatoria.\n",
    "* La segunda será `keepassxc-cli estimate` \n",
    "* La tercera será `cracklib-check` estas dos últimas nos permitirán analizar la complejidad y eficiencia de una contraseña.\n",
    "\n",
    "Comenzaremos analizando una contraseña insegura con `keepassxc-cli estimate` y luego con `cracklib-check`"
   ]
  },
  {
   "cell_type": "code",
   "execution_count": null,
   "metadata": {},
   "outputs": [],
   "source": [
    "echo \"12345678\" | cracklib-check"
   ]
  },
  {
   "cell_type": "code",
   "execution_count": null,
   "metadata": {},
   "outputs": [],
   "source": [
    "keepassxc-cli estimate \"12345678\""
   ]
  },
  {
   "cell_type": "markdown",
   "metadata": {},
   "source": [
    "Cómo podemos ver utilizar \"12345678\" es una pésima idea para una contraseña, para este ejercicio pueden reemplazar los números `12345678` por cualquier contraseña que quieran validar.\n",
    "\n",
    "Ahora tratemos de generar una contraseña realmente compleja."
   ]
  },
  {
   "cell_type": "code",
   "execution_count": 5,
   "metadata": {},
   "outputs": [],
   "source": [
    "keepassxc-cli generate --length 16 "
   ]
  },
  {
   "cell_type": "markdown",
   "metadata": {},
   "source": [
    "La anterior ejecución genera una contraseña que tiene una longitud de 16 caracteres, sin embargo en las nuevas versiones de `keepassxc-cli` podemos ejecutar algo como:\n",
    "\n",
    "keepassxc-cli generate --length 16  --lower --upper --numeric --special --extended --exclude \"|>)/\"\n",
    "\n",
    "Donde se podrá por ejemplo crear una contraseña que contenga:\n",
    "\n",
    "* 16 caracteres\n",
    "* Letras minúsculas\n",
    "* Letras mayúsculas\n",
    "* Caractéres numéricos\n",
    "* Carácteres especiales\n",
    "* Valores extendidos ASCII\n",
    "* Exclusión de los caracteres |>)/\n",
    "\n",
    "Validemos la contraseña generada seleccionandola y copiandola, luego peguemosla en el siguiente espacio que dice `\"INTRODUCE_LA_CONTRASEÑA_A_VALIDAR\"` para ejecutar de nuevo los comandos `keepassxc-cli estimate` y `cracklib-check` así veremos que opinan estos comandos sobre nuestra nueva contraseña."
   ]
  },
  {
   "cell_type": "code",
   "execution_count": null,
   "metadata": {},
   "outputs": [],
   "source": [
    "echo \"INTRODUCE_LA_CONTRASEÑA_A_VALIDAR\" | cracklib-check"
   ]
  },
  {
   "cell_type": "code",
   "execution_count": null,
   "metadata": {},
   "outputs": [],
   "source": [
    "keepassxc-cli estimate \"INTRODUCE_LA_CONTRASEÑA_A_VALIDAR\""
   ]
  },
  {
   "cell_type": "markdown",
   "metadata": {},
   "source": [
    "Si todo salió bien, `cracklib-check` nos responderá con un `OK` y `keepassxc-cli estimate` nos dirá que la entropía de la contraseña es mucho mayor a la de `12345678`.\n",
    "\n",
    "Si no cuentas con `keepassxc-cli generate`, siempre es posible utilizar diferentes comandos de Linux para crear contraseñas aleatorias, a continuación algunos ejemplos:"
   ]
  },
  {
   "cell_type": "code",
   "execution_count": null,
   "metadata": {},
   "outputs": [],
   "source": [
    "openssl rand -hex 12"
   ]
  },
  {
   "cell_type": "code",
   "execution_count": null,
   "metadata": {},
   "outputs": [],
   "source": [
    "date | md5sum"
   ]
  },
  {
   "cell_type": "markdown",
   "metadata": {},
   "source": [
    "Otras opciones en Linux son:\n",
    "\n",
    "* env LC_CTYPE=C tr -dc 'a-z0-9' < /dev/urandom | head -c24\n",
    "* strings /dev/urandom | grep -o '[[:alnum:]]' | head -n 10 | tr -d '\\n'\n",
    "\n",
    "Y muchas similares, así tendrás múltiples formas de generar contraseñas seguras desde la terminal."
   ]
  }
 ],
 "metadata": {
  "kernelspec": {
   "display_name": "Bash",
   "language": "bash",
   "name": "bash"
  },
  "language_info": {
   "codemirror_mode": "shell",
   "file_extension": ".sh",
   "mimetype": "text/x-sh",
   "name": "bash"
  }
 },
 "nbformat": 4,
 "nbformat_minor": 2
}
